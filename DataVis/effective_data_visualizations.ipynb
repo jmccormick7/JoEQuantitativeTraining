{
 "cells": [
  {
   "cell_type": "markdown",
   "metadata": {},
   "source": [
    "# Creating Effective Data Visualizations  (in Python)\n",
    "### Case Western Reserve University Journal of Economics\n",
    "\n",
    "\n",
    "For this module the python library matplotlib (pyplots) will be used. If you are using a personal computer installation of Python please use the following command in your terminal to download matplotlib if you have not already:  `pip install matplotlib`\n",
    "\n",
    "In order to load our datasets that we have previously cleaned we will again use the pandas library. If you have not done any data cleaning and are using a personal computer installation of python use the following command in your terminal to download pandas: `pip install pandas`\n",
    "\n",
    "If you are using Google CoLab there is no need run this command Google will load it for you. \n",
    "\n"
   ]
  },
  {
   "cell_type": "markdown",
   "metadata": {},
   "source": [
    "**Importing matplotlib and pandas**\n",
    "\n",
    "The following lines are needed to load the matplotlib and pandas modules, we are using pyplots which is generally abreviated as `plt`. Pandas is generally abreviated to `pd`"
   ]
  },
  {
   "cell_type": "code",
   "execution_count": null,
   "metadata": {},
   "outputs": [],
   "source": [
    "import matplotlib.pyplot as plt\n",
    "import pandas as pd"
   ]
  },
  {
   "cell_type": "markdown",
   "metadata": {},
   "source": [
    "### Loading Datasets\n",
    "\n",
    "In python we will load our datasets with different commands based on the format of our dataset.\n",
    "\n",
    "**CSV**  \n",
    "\n",
    "This is the most common format of dataset we will come across. CSV stands for comma-separated values. In pandas we can use the following command to load the dataset:  \n",
    "`var_name = pd.load_csv('filepath')`  \n",
    "This will set the var_name to the data, and will load the data from the file path (this can be an absolute or relative path (relative means from the folder your file is in, absolute would be from the root directory of your operating system))\n",
    "\n",
    "**XLSX (Microsoft Excel)**  \n",
    "\n",
    "This is another common format of dataset. In pandas we can use the following command to load the dataset:\n",
    "`var_name = pd.read_excel('filepath')`  \n",
    "There are lots of powerful optional arguments that you can refer to the documentation on. The only one that could be generally useful is the sheet_name parameter:\n",
    "\n",
    "Unlike R, Python is a 0 index language, so it is defaulted at 0 (so the first sheet). If you need to pull data from a different sheet the simplest way to do this is to specify the sheet number or name in the sheet_name parameter. \n",
    "\n",
    "Imagine I have a excel sheet with 2 sheets, original_data, and corrected_data. If I use the command with just the filepath I will pull the data from the original_data sheet. If I want the corrected_data, I have 2 options: \n",
    "\n",
    "- Use the index:\n",
    "\n",
    "`var_name = pd.read_excel('filepath', sheet_name=1)`\n",
    "\n",
    "- Use the sheet name:\n",
    "\n",
    "`var_name = pd.read_excel('filepath', sheet_name='corrected_data')`\n",
    "\n",
    "**TXT**\n",
    "\n",
    "These are much less common but some old census files I have seen usep pipe-delimited text files. In this case you will have to use a different command and declare the delimiter if it is anything but tab delimited. \n",
    "\n",
    "`var_name = pd.read_table('filepath', sep = '|')`\n",
    "\n",
    "^ This example is for pipe-delimited text file parsing. \n",
    "\n",
    "The data would look something like this:\n",
    "\n",
    "> name | age | income   \n",
    "> Mark | 25 | 0\n",
    "\n",
    "\n",
    "For any other formats of data (JSON, XML, SHP, etc) reach out to your project leads or me for help (often ChatGPT can help)"
   ]
  },
  {
   "cell_type": "markdown",
   "metadata": {},
   "source": []
  }
 ],
 "metadata": {
  "language_info": {
   "name": "python"
  }
 },
 "nbformat": 4,
 "nbformat_minor": 2
}
